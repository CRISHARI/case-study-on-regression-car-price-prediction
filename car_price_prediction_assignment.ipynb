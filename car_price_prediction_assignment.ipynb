{
  "nbformat": 4,
  "nbformat_minor": 0,
  "metadata": {
    "colab": {
      "provenance": []
    },
    "kernelspec": {
      "name": "python3",
      "display_name": "Python 3"
    },
    "language_info": {
      "name": "python"
    }
  },
  "cells": [
    {
      "cell_type": "code",
      "execution_count": 1,
      "metadata": {
        "id": "H3OJxmxzr0YB"
      },
      "outputs": [],
      "source": [
        "#import modules\n",
        "import numpy as np\n",
        "import pandas as pd\n",
        "import matplotlib.pyplot as plt\n",
        "import seaborn as sns"
      ]
    },
    {
      "cell_type": "code",
      "source": [
        "\n",
        "data=pd.read_csv('car_age_price.csv')\n",
        "print(data)"
      ],
      "metadata": {
        "colab": {
          "base_uri": "https://localhost:8080/"
        },
        "id": "qNClsEoes8P_",
        "outputId": "ffafe532-6fa6-4a99-d1b8-46eb4b979791"
      },
      "execution_count": 100,
      "outputs": [
        {
          "output_type": "stream",
          "name": "stdout",
          "text": [
            "     Year   Price\n",
            "0    2018  465000\n",
            "1    2019  755000\n",
            "2    2019  700000\n",
            "3    2018  465000\n",
            "4    2018  465000\n",
            "..    ...     ...\n",
            "107  2016  375000\n",
            "108  2014  300000\n",
            "109  2015  425000\n",
            "110  2016  420000\n",
            "111  2015  425000\n",
            "\n",
            "[112 rows x 2 columns]\n"
          ]
        }
      ]
    },
    {
      "cell_type": "code",
      "source": [
        "y=data['Price']"
      ],
      "metadata": {
        "id": "tS41xV0GoU1P"
      },
      "execution_count": 101,
      "outputs": []
    },
    {
      "cell_type": "code",
      "source": [
        "X=data.drop(['Price'],axis=1)"
      ],
      "metadata": {
        "id": "z7UJAtwHogtD"
      },
      "execution_count": 103,
      "outputs": []
    },
    {
      "cell_type": "code",
      "source": [
        "y"
      ],
      "metadata": {
        "colab": {
          "base_uri": "https://localhost:8080/"
        },
        "id": "z9WX94e0oylS",
        "outputId": "87c8efa2-b0cf-4b7e-9b80-e62c7356cd29"
      },
      "execution_count": 104,
      "outputs": [
        {
          "output_type": "execute_result",
          "data": {
            "text/plain": [
              "0      465000\n",
              "1      755000\n",
              "2      700000\n",
              "3      465000\n",
              "4      465000\n",
              "        ...  \n",
              "107    375000\n",
              "108    300000\n",
              "109    425000\n",
              "110    420000\n",
              "111    425000\n",
              "Name: Price, Length: 112, dtype: int64"
            ]
          },
          "metadata": {},
          "execution_count": 104
        }
      ]
    },
    {
      "cell_type": "code",
      "source": [
        "X"
      ],
      "metadata": {
        "colab": {
          "base_uri": "https://localhost:8080/",
          "height": 424
        },
        "id": "wvupIqnVo3vw",
        "outputId": "88678d46-9daf-4f69-d2a2-81252de20a96"
      },
      "execution_count": 105,
      "outputs": [
        {
          "output_type": "execute_result",
          "data": {
            "text/plain": [
              "     Year\n",
              "0    2018\n",
              "1    2019\n",
              "2    2019\n",
              "3    2018\n",
              "4    2018\n",
              "..    ...\n",
              "107  2016\n",
              "108  2014\n",
              "109  2015\n",
              "110  2016\n",
              "111  2015\n",
              "\n",
              "[112 rows x 1 columns]"
            ],
            "text/html": [
              "\n",
              "  <div id=\"df-e1c5b593-c0c0-4ece-a097-aa1ba204eed1\" class=\"colab-df-container\">\n",
              "    <div>\n",
              "<style scoped>\n",
              "    .dataframe tbody tr th:only-of-type {\n",
              "        vertical-align: middle;\n",
              "    }\n",
              "\n",
              "    .dataframe tbody tr th {\n",
              "        vertical-align: top;\n",
              "    }\n",
              "\n",
              "    .dataframe thead th {\n",
              "        text-align: right;\n",
              "    }\n",
              "</style>\n",
              "<table border=\"1\" class=\"dataframe\">\n",
              "  <thead>\n",
              "    <tr style=\"text-align: right;\">\n",
              "      <th></th>\n",
              "      <th>Year</th>\n",
              "    </tr>\n",
              "  </thead>\n",
              "  <tbody>\n",
              "    <tr>\n",
              "      <th>0</th>\n",
              "      <td>2018</td>\n",
              "    </tr>\n",
              "    <tr>\n",
              "      <th>1</th>\n",
              "      <td>2019</td>\n",
              "    </tr>\n",
              "    <tr>\n",
              "      <th>2</th>\n",
              "      <td>2019</td>\n",
              "    </tr>\n",
              "    <tr>\n",
              "      <th>3</th>\n",
              "      <td>2018</td>\n",
              "    </tr>\n",
              "    <tr>\n",
              "      <th>4</th>\n",
              "      <td>2018</td>\n",
              "    </tr>\n",
              "    <tr>\n",
              "      <th>...</th>\n",
              "      <td>...</td>\n",
              "    </tr>\n",
              "    <tr>\n",
              "      <th>107</th>\n",
              "      <td>2016</td>\n",
              "    </tr>\n",
              "    <tr>\n",
              "      <th>108</th>\n",
              "      <td>2014</td>\n",
              "    </tr>\n",
              "    <tr>\n",
              "      <th>109</th>\n",
              "      <td>2015</td>\n",
              "    </tr>\n",
              "    <tr>\n",
              "      <th>110</th>\n",
              "      <td>2016</td>\n",
              "    </tr>\n",
              "    <tr>\n",
              "      <th>111</th>\n",
              "      <td>2015</td>\n",
              "    </tr>\n",
              "  </tbody>\n",
              "</table>\n",
              "<p>112 rows × 1 columns</p>\n",
              "</div>\n",
              "    <div class=\"colab-df-buttons\">\n",
              "\n",
              "  <div class=\"colab-df-container\">\n",
              "    <button class=\"colab-df-convert\" onclick=\"convertToInteractive('df-e1c5b593-c0c0-4ece-a097-aa1ba204eed1')\"\n",
              "            title=\"Convert this dataframe to an interactive table.\"\n",
              "            style=\"display:none;\">\n",
              "\n",
              "  <svg xmlns=\"http://www.w3.org/2000/svg\" height=\"24px\" viewBox=\"0 -960 960 960\">\n",
              "    <path d=\"M120-120v-720h720v720H120Zm60-500h600v-160H180v160Zm220 220h160v-160H400v160Zm0 220h160v-160H400v160ZM180-400h160v-160H180v160Zm440 0h160v-160H620v160ZM180-180h160v-160H180v160Zm440 0h160v-160H620v160Z\"/>\n",
              "  </svg>\n",
              "    </button>\n",
              "\n",
              "  <style>\n",
              "    .colab-df-container {\n",
              "      display:flex;\n",
              "      gap: 12px;\n",
              "    }\n",
              "\n",
              "    .colab-df-convert {\n",
              "      background-color: #E8F0FE;\n",
              "      border: none;\n",
              "      border-radius: 50%;\n",
              "      cursor: pointer;\n",
              "      display: none;\n",
              "      fill: #1967D2;\n",
              "      height: 32px;\n",
              "      padding: 0 0 0 0;\n",
              "      width: 32px;\n",
              "    }\n",
              "\n",
              "    .colab-df-convert:hover {\n",
              "      background-color: #E2EBFA;\n",
              "      box-shadow: 0px 1px 2px rgba(60, 64, 67, 0.3), 0px 1px 3px 1px rgba(60, 64, 67, 0.15);\n",
              "      fill: #174EA6;\n",
              "    }\n",
              "\n",
              "    .colab-df-buttons div {\n",
              "      margin-bottom: 4px;\n",
              "    }\n",
              "\n",
              "    [theme=dark] .colab-df-convert {\n",
              "      background-color: #3B4455;\n",
              "      fill: #D2E3FC;\n",
              "    }\n",
              "\n",
              "    [theme=dark] .colab-df-convert:hover {\n",
              "      background-color: #434B5C;\n",
              "      box-shadow: 0px 1px 3px 1px rgba(0, 0, 0, 0.15);\n",
              "      filter: drop-shadow(0px 1px 2px rgba(0, 0, 0, 0.3));\n",
              "      fill: #FFFFFF;\n",
              "    }\n",
              "  </style>\n",
              "\n",
              "    <script>\n",
              "      const buttonEl =\n",
              "        document.querySelector('#df-e1c5b593-c0c0-4ece-a097-aa1ba204eed1 button.colab-df-convert');\n",
              "      buttonEl.style.display =\n",
              "        google.colab.kernel.accessAllowed ? 'block' : 'none';\n",
              "\n",
              "      async function convertToInteractive(key) {\n",
              "        const element = document.querySelector('#df-e1c5b593-c0c0-4ece-a097-aa1ba204eed1');\n",
              "        const dataTable =\n",
              "          await google.colab.kernel.invokeFunction('convertToInteractive',\n",
              "                                                    [key], {});\n",
              "        if (!dataTable) return;\n",
              "\n",
              "        const docLinkHtml = 'Like what you see? Visit the ' +\n",
              "          '<a target=\"_blank\" href=https://colab.research.google.com/notebooks/data_table.ipynb>data table notebook</a>'\n",
              "          + ' to learn more about interactive tables.';\n",
              "        element.innerHTML = '';\n",
              "        dataTable['output_type'] = 'display_data';\n",
              "        await google.colab.output.renderOutput(dataTable, element);\n",
              "        const docLink = document.createElement('div');\n",
              "        docLink.innerHTML = docLinkHtml;\n",
              "        element.appendChild(docLink);\n",
              "      }\n",
              "    </script>\n",
              "  </div>\n",
              "\n",
              "\n",
              "<div id=\"df-c6dc0985-7407-4c33-88e7-2e0ce6430148\">\n",
              "  <button class=\"colab-df-quickchart\" onclick=\"quickchart('df-c6dc0985-7407-4c33-88e7-2e0ce6430148')\"\n",
              "            title=\"Suggest charts.\"\n",
              "            style=\"display:none;\">\n",
              "\n",
              "<svg xmlns=\"http://www.w3.org/2000/svg\" height=\"24px\"viewBox=\"0 0 24 24\"\n",
              "     width=\"24px\">\n",
              "    <g>\n",
              "        <path d=\"M19 3H5c-1.1 0-2 .9-2 2v14c0 1.1.9 2 2 2h14c1.1 0 2-.9 2-2V5c0-1.1-.9-2-2-2zM9 17H7v-7h2v7zm4 0h-2V7h2v10zm4 0h-2v-4h2v4z\"/>\n",
              "    </g>\n",
              "</svg>\n",
              "  </button>\n",
              "\n",
              "<style>\n",
              "  .colab-df-quickchart {\n",
              "      --bg-color: #E8F0FE;\n",
              "      --fill-color: #1967D2;\n",
              "      --hover-bg-color: #E2EBFA;\n",
              "      --hover-fill-color: #174EA6;\n",
              "      --disabled-fill-color: #AAA;\n",
              "      --disabled-bg-color: #DDD;\n",
              "  }\n",
              "\n",
              "  [theme=dark] .colab-df-quickchart {\n",
              "      --bg-color: #3B4455;\n",
              "      --fill-color: #D2E3FC;\n",
              "      --hover-bg-color: #434B5C;\n",
              "      --hover-fill-color: #FFFFFF;\n",
              "      --disabled-bg-color: #3B4455;\n",
              "      --disabled-fill-color: #666;\n",
              "  }\n",
              "\n",
              "  .colab-df-quickchart {\n",
              "    background-color: var(--bg-color);\n",
              "    border: none;\n",
              "    border-radius: 50%;\n",
              "    cursor: pointer;\n",
              "    display: none;\n",
              "    fill: var(--fill-color);\n",
              "    height: 32px;\n",
              "    padding: 0;\n",
              "    width: 32px;\n",
              "  }\n",
              "\n",
              "  .colab-df-quickchart:hover {\n",
              "    background-color: var(--hover-bg-color);\n",
              "    box-shadow: 0 1px 2px rgba(60, 64, 67, 0.3), 0 1px 3px 1px rgba(60, 64, 67, 0.15);\n",
              "    fill: var(--button-hover-fill-color);\n",
              "  }\n",
              "\n",
              "  .colab-df-quickchart-complete:disabled,\n",
              "  .colab-df-quickchart-complete:disabled:hover {\n",
              "    background-color: var(--disabled-bg-color);\n",
              "    fill: var(--disabled-fill-color);\n",
              "    box-shadow: none;\n",
              "  }\n",
              "\n",
              "  .colab-df-spinner {\n",
              "    border: 2px solid var(--fill-color);\n",
              "    border-color: transparent;\n",
              "    border-bottom-color: var(--fill-color);\n",
              "    animation:\n",
              "      spin 1s steps(1) infinite;\n",
              "  }\n",
              "\n",
              "  @keyframes spin {\n",
              "    0% {\n",
              "      border-color: transparent;\n",
              "      border-bottom-color: var(--fill-color);\n",
              "      border-left-color: var(--fill-color);\n",
              "    }\n",
              "    20% {\n",
              "      border-color: transparent;\n",
              "      border-left-color: var(--fill-color);\n",
              "      border-top-color: var(--fill-color);\n",
              "    }\n",
              "    30% {\n",
              "      border-color: transparent;\n",
              "      border-left-color: var(--fill-color);\n",
              "      border-top-color: var(--fill-color);\n",
              "      border-right-color: var(--fill-color);\n",
              "    }\n",
              "    40% {\n",
              "      border-color: transparent;\n",
              "      border-right-color: var(--fill-color);\n",
              "      border-top-color: var(--fill-color);\n",
              "    }\n",
              "    60% {\n",
              "      border-color: transparent;\n",
              "      border-right-color: var(--fill-color);\n",
              "    }\n",
              "    80% {\n",
              "      border-color: transparent;\n",
              "      border-right-color: var(--fill-color);\n",
              "      border-bottom-color: var(--fill-color);\n",
              "    }\n",
              "    90% {\n",
              "      border-color: transparent;\n",
              "      border-bottom-color: var(--fill-color);\n",
              "    }\n",
              "  }\n",
              "</style>\n",
              "\n",
              "  <script>\n",
              "    async function quickchart(key) {\n",
              "      const quickchartButtonEl =\n",
              "        document.querySelector('#' + key + ' button');\n",
              "      quickchartButtonEl.disabled = true;  // To prevent multiple clicks.\n",
              "      quickchartButtonEl.classList.add('colab-df-spinner');\n",
              "      try {\n",
              "        const charts = await google.colab.kernel.invokeFunction(\n",
              "            'suggestCharts', [key], {});\n",
              "      } catch (error) {\n",
              "        console.error('Error during call to suggestCharts:', error);\n",
              "      }\n",
              "      quickchartButtonEl.classList.remove('colab-df-spinner');\n",
              "      quickchartButtonEl.classList.add('colab-df-quickchart-complete');\n",
              "    }\n",
              "    (() => {\n",
              "      let quickchartButtonEl =\n",
              "        document.querySelector('#df-c6dc0985-7407-4c33-88e7-2e0ce6430148 button');\n",
              "      quickchartButtonEl.style.display =\n",
              "        google.colab.kernel.accessAllowed ? 'block' : 'none';\n",
              "    })();\n",
              "  </script>\n",
              "</div>\n",
              "    </div>\n",
              "  </div>\n"
            ]
          },
          "metadata": {},
          "execution_count": 105
        }
      ]
    },
    {
      "cell_type": "markdown",
      "source": [
        "linear regression 1\n"
      ],
      "metadata": {
        "id": "gYRxBAra37Ms"
      }
    },
    {
      "cell_type": "code",
      "source": [
        "from sklearn.model_selection import train_test_split\n",
        "X_train, X_test, y_train, y_test = train_test_split(X, y,\n",
        "                                                    train_size=0.7,\n",
        "                                                    test_size = 0.3, random_state=42)"
      ],
      "metadata": {
        "id": "l6Fr5RZdo6h4"
      },
      "execution_count": 106,
      "outputs": []
    },
    {
      "cell_type": "code",
      "source": [
        "from sklearn import linear_model\n",
        "lr=linear_model.LinearRegression()"
      ],
      "metadata": {
        "id": "etKH-mGVp2XY"
      },
      "execution_count": 107,
      "outputs": []
    },
    {
      "cell_type": "code",
      "source": [
        "model=lr.fit(X_train,y_train)"
      ],
      "metadata": {
        "id": "J4FEpbIip5Ov"
      },
      "execution_count": 108,
      "outputs": []
    },
    {
      "cell_type": "code",
      "source": [
        "predictions=model.predict(X_test)\n"
      ],
      "metadata": {
        "id": "cSgpoFmsTD1g"
      },
      "execution_count": 111,
      "outputs": []
    },
    {
      "cell_type": "code",
      "source": [
        "from sklearn.metrics import mean_squared_error,mean_absolute_error,r2_score\n",
        "print(\"Prediction :- \", predictions)\n",
        "print(\"MSE :- \",mean_squared_error(y_test,predictions))\n",
        "print(\"MAE :- \",mean_absolute_error(y_test,predictions))\n",
        "print(\"R2 SCORE :- \",r2_score(y_test,predictions))"
      ],
      "metadata": {
        "colab": {
          "base_uri": "https://localhost:8080/"
        },
        "id": "RwX9HwE3UAjX",
        "outputId": "55a59dd2-6b05-4d62-9325-f958b2568ed7"
      },
      "execution_count": 119,
      "outputs": [
        {
          "output_type": "stream",
          "name": "stdout",
          "text": [
            "Prediction :-  [609546.42181529 508618.99038334 559082.70609932 559082.70609932\n",
            " 559082.70609932 407691.55895138 508618.99038334 559082.70609932\n",
            " 609546.42181529 609546.42181529 306764.12751943 508618.99038334\n",
            " 407691.55895138 660010.13753128 559082.70609932 609546.42181529\n",
            " 306764.12751943 407691.55895138 508618.99038334 508618.99038334\n",
            " 508618.99038334 508618.99038334 508618.99038334 508618.99038334\n",
            " 508618.99038334 508618.99038334 407691.55895138 407691.55895138\n",
            " 357227.8432354  407691.55895138 508618.99038334 609546.42181529\n",
            " 559082.70609932 508618.99038334 508618.99038334 357227.8432354\n",
            " 407691.55895138 508618.99038334 407691.55895138 407691.55895138\n",
            " 458155.27466737 407691.55895138 660010.13753128 508618.99038334\n",
            " 508618.99038334 357227.8432354  508618.99038334 458155.27466737\n",
            " 508618.99038334 609546.42181529 407691.55895138 660010.13753128\n",
            " 508618.99038334 508618.99038334 508618.99038334 508618.99038334]\n",
            "MSE :-  3640901249.3320346\n",
            "MAE :-  49513.74198063277\n",
            "R2 SCORE :-  0.479432543532763\n"
          ]
        }
      ]
    },
    {
      "cell_type": "markdown",
      "source": [
        "linear regression 2"
      ],
      "metadata": {
        "id": "9RPSuR9arpa6"
      }
    },
    {
      "cell_type": "code",
      "source": [
        "X_train,X_test,y_train,y_test= train_test_split(X,y,test_size=.5, random_state=42)\n",
        "lr=linear_model.LinearRegression()\n",
        "model=lr.fit(X_train,y_train)\n",
        "predictions=model.predict(X_test)\n",
        "print(mean_squared_error(y_test,predictions))\n",
        "print(mean_absolute_error(y_test,predictions))\n",
        "print(r2_score(y_test,predictions))"
      ],
      "metadata": {
        "id": "DG3mQ97uwFoX",
        "colab": {
          "base_uri": "https://localhost:8080/"
        },
        "outputId": "c14e0f8b-ad39-455c-d8cf-78a76cc141b8"
      },
      "execution_count": 120,
      "outputs": [
        {
          "output_type": "stream",
          "name": "stdout",
          "text": [
            "3640901249.3320346\n",
            "49513.74198063277\n",
            "0.479432543532763\n"
          ]
        }
      ]
    },
    {
      "cell_type": "markdown",
      "source": [
        "lasso regression"
      ],
      "metadata": {
        "id": "Ru9A7exyrtTQ"
      }
    },
    {
      "cell_type": "code",
      "source": [
        "from sklearn.linear_model import Lasso\n",
        "lasso_model = Lasso(alpha=1.0)\n",
        "lasso_model.fit(X_train, y_train)\n",
        "print(\"MSE of lasso regression:-\",mean_squared_error(y_test,predictions))\n",
        "print(\"MAE of lasso regression:-\",mean_absolute_error(y_test,predictions))\n",
        "print(\"R2 SCORE of lasso regression:-\",r2_score(y_test,predictions))\n",
        "selected_features = lasso_model.coef_\n",
        "\n",
        "year_2022 = 2022\n",
        "price_2022 = lasso_model.predict([[year_2022]])[0]\n",
        "print(\"Price in 2022 =\",price_2022)"
      ],
      "metadata": {
        "colab": {
          "base_uri": "https://localhost:8080/"
        },
        "id": "lPS-ty_Jrmbl",
        "outputId": "4b90fcdb-45f5-4d08-b23c-bc8d878cff97"
      },
      "execution_count": 121,
      "outputs": [
        {
          "output_type": "stream",
          "name": "stdout",
          "text": [
            "MSE of lasso regression:- 3640901249.3320346\n",
            "MAE of lasso regression:- 49513.74198063277\n",
            "R2 SCORE of lasso regression:- 0.479432543532763\n",
            "Price in 2022 = 760935.3336846083\n"
          ]
        },
        {
          "output_type": "stream",
          "name": "stderr",
          "text": [
            "/usr/local/lib/python3.10/dist-packages/sklearn/base.py:439: UserWarning: X does not have valid feature names, but Lasso was fitted with feature names\n",
            "  warnings.warn(\n"
          ]
        }
      ]
    },
    {
      "cell_type": "code",
      "source": [
        "#Visualizing the data\n",
        "data.hist()\n",
        "plt.show()"
      ],
      "metadata": {
        "colab": {
          "base_uri": "https://localhost:8080/",
          "height": 452
        },
        "id": "2yliNdd9AOyn",
        "outputId": "72afd7df-4eb4-441d-bc69-6b51b1514347"
      },
      "execution_count": 122,
      "outputs": [
        {
          "output_type": "display_data",
          "data": {
            "text/plain": [
              "<Figure size 640x480 with 2 Axes>"
            ],
            "image/png": "[encoded data removed]"
          },
          "metadata": {}
        }
      ]
    },
    {
      "cell_type": "markdown",
      "source": [
        "1.Best linear relation between year and price"
      ],
      "metadata": {
        "id": "BtvUgivX4qbL"
      }
    },
    {
      "cell_type": "code",
      "source": [
        "#Between year and Price\n",
        "plt.figure(figsize=(10,4))\n",
        "\n",
        "plt.subplot(1,2,2)\n",
        "plt.title('Year vs Price')\n",
        "sns.boxplot(x=data.Year, y=data.Price, palette=(\"cubehelix\"))\n",
        "\n",
        "plt.show()"
      ],
      "metadata": {
        "colab": {
          "base_uri": "https://localhost:8080/",
          "height": 410
        },
        "id": "rpNlDWIx8Ckq",
        "outputId": "d95c8f48-feae-4567-d50e-ef6376afdee1"
      },
      "execution_count": 116,
      "outputs": [
        {
          "output_type": "display_data",
          "data": {
            "text/plain": [
              "<Figure size 1000x400 with 1 Axes>"
            ],
            "image/png": "[encoded data removed]"
          },
          "metadata": {}
        }
      ]
    },
    {
      "cell_type": "code",
      "source": [
        "# Analysis of Variance\n",
        "import scipy as sp\n",
        "\n",
        "data_annova = data[['Year', 'Price']]\n",
        "grouped_annova = data_annova.groupby(['Year'])\n",
        "annova_results_l = sp.stats.f_oneway(\n",
        "\t\t\t\t\t\t\tgrouped_annova.get_group(2017)['Price'],\n",
        "\t\t\t\t\t\t\tgrouped_annova.get_group(2020)['Price']\n",
        "\t\t\t\t\t\t\t\t\t)\n",
        "print(annova_results_l)\n",
        "\n",
        "# strong corealtion between a categorical variable\n",
        "# if annova test gives large f-test and small p-value\n",
        "\n",
        "# Correlation- measures dependency, not causation\n",
        "sns.regplot(x ='Year', y ='Price', data = data)\n",
        "plt.ylim(0, )\n"
      ],
      "metadata": {
        "colab": {
          "base_uri": "https://localhost:8080/",
          "height": 484
        },
        "id": "-CtefK_2JyEl",
        "outputId": "1a8388de-f556-4be1-e5c6-f42f8a9d574c"
      },
      "execution_count": 117,
      "outputs": [
        {
          "output_type": "stream",
          "name": "stdout",
          "text": [
            "F_onewayResult(statistic=23.47282491295477, pvalue=1.3141495962412486e-05)\n"
          ]
        },
        {
          "output_type": "execute_result",
          "data": {
            "text/plain": [
              "(0.0, 777906.4986692877)"
            ]
          },
          "metadata": {},
          "execution_count": 117
        },
        {
          "output_type": "display_data",
          "data": {
            "text/plain": [
              "<Figure size 640x480 with 1 Axes>"
            ],
            "image/png": "[encoded data removed]"
          },
          "metadata": {}
        }
      ]
    },
    {
      "cell_type": "markdown",
      "source": [
        "As the slope is increasing in a positive direction, it is a positive linear relationship."
      ],
      "metadata": {
        "id": "-dVD6oT0NpgX"
      }
    },
    {
      "cell_type": "markdown",
      "source": [
        "2.Can you  predict the possible price of a 2022 model second-hand grand i10?\n",
        "\n",
        "Receaving high MSE and MAE values, the result of prediction may be inaccurate. But the predicted value for **year 2022 is 760935.3336846083.**\n",
        "\n",
        "3.Learn about lasso regression and create a model along with linear regression. Find out which one is performing better?\n",
        "\n",
        "By comparing linear and lasso regression for the given data set , found that lasso regression is performing better."
      ],
      "metadata": {
        "id": "eW5VgbDIN90x"
      }
    },
    {
      "cell_type": "code",
      "source": [],
      "metadata": {
        "id": "qog4nRhZOMz5"
      },
      "execution_count": null,
      "outputs": []
    }
  ]
}